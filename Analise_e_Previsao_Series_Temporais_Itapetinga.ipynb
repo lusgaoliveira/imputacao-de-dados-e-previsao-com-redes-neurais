{
 "cells": [
  {
   "cell_type": "code",
   "execution_count": 2,
   "metadata": {},
   "outputs": [],
   "source": [
    "import numpy as np"
   ]
  },
  {
   "cell_type": "code",
   "execution_count": 9,
   "metadata": {},
   "outputs": [],
   "source": [
    "import pandas as pd"
   ]
  },
  {
   "cell_type": "code",
   "execution_count": 4,
   "metadata": {},
   "outputs": [],
   "source": [
    "import matplotlib.pyplot as plt"
   ]
  },
  {
   "cell_type": "code",
   "execution_count": 5,
   "metadata": {},
   "outputs": [],
   "source": [
    "import seaborn as sns"
   ]
  },
  {
   "cell_type": "markdown",
   "metadata": {},
   "source": [
    "# Importando o dataset e tratando"
   ]
  },
  {
   "cell_type": "code",
   "execution_count": 6,
   "metadata": {},
   "outputs": [],
   "source": [
    "data = pd.read_csv(\"./data/dados_dias.csv\", sep= \";\", skiprows=9)"
   ]
  },
  {
   "cell_type": "code",
   "execution_count": 7,
   "metadata": {},
   "outputs": [
    {
     "data": {
      "text/plain": [
       "Index(['Data Medicao', 'PRECIPITACAO TOTAL, DIARIO (AUT)(mm)',\n",
       "       'PRESSAO ATMOSFERICA MEDIA DIARIA (AUT)(mB)',\n",
       "       'TEMPERATURA DO PONTO DE ORVALHO MEDIA DIARIA (AUT)(°C)',\n",
       "       'TEMPERATURA MAXIMA, DIARIA (AUT)(°C)',\n",
       "       'TEMPERATURA MEDIA, DIARIA (AUT)(°C)',\n",
       "       'TEMPERATURA MINIMA, DIARIA (AUT)(°C)',\n",
       "       'UMIDADE RELATIVA DO AR, MEDIA DIARIA (AUT)(%)',\n",
       "       'UMIDADE RELATIVA DO AR, MINIMA DIARIA (AUT)(%)',\n",
       "       'VENTO, RAJADA MAXIMA DIARIA (AUT)(m/s)',\n",
       "       'VENTO, VELOCIDADE MEDIA DIARIA (AUT)(m/s)', 'Unnamed: 11'],\n",
       "      dtype='object')"
      ]
     },
     "execution_count": 7,
     "metadata": {},
     "output_type": "execute_result"
    }
   ],
   "source": [
    "data.columns"
   ]
  },
  {
   "cell_type": "code",
   "execution_count": 10,
   "metadata": {},
   "outputs": [],
   "source": [
    "data = data.drop(columns=['Unnamed: 11'], errors='ignore')"
   ]
  },
  {
   "cell_type": "code",
   "execution_count": 14,
   "metadata": {},
   "outputs": [],
   "source": [
    "# Renomear as colunas\n",
    "data.columns = ['Data', 'PrecipitacaoTotalDiaria', 'PressaoMediaDiaria', 'TempPontoOrvalho',\n",
    "                'TempMaxima', 'TempMedia', 'TempMinima', 'UmidadeMedia', 'UmidadeMinima',\n",
    "                'VentoRajadaMaxima', 'VentoVelocidadeMedia']"
   ]
  },
  {
   "cell_type": "code",
   "execution_count": 15,
   "metadata": {},
   "outputs": [
    {
     "data": {
      "text/html": [
       "<div>\n",
       "<style scoped>\n",
       "    .dataframe tbody tr th:only-of-type {\n",
       "        vertical-align: middle;\n",
       "    }\n",
       "\n",
       "    .dataframe tbody tr th {\n",
       "        vertical-align: top;\n",
       "    }\n",
       "\n",
       "    .dataframe thead th {\n",
       "        text-align: right;\n",
       "    }\n",
       "</style>\n",
       "<table border=\"1\" class=\"dataframe\">\n",
       "  <thead>\n",
       "    <tr style=\"text-align: right;\">\n",
       "      <th></th>\n",
       "      <th>Data</th>\n",
       "      <th>PrecipitacaoTotalDiaria</th>\n",
       "      <th>PressaoMediaDiaria</th>\n",
       "      <th>TempPontoOrvalho</th>\n",
       "      <th>TempMaxima</th>\n",
       "      <th>TempMedia</th>\n",
       "      <th>TempMinima</th>\n",
       "      <th>UmidadeMedia</th>\n",
       "      <th>UmidadeMinima</th>\n",
       "      <th>VentoRajadaMaxima</th>\n",
       "      <th>VentoVelocidadeMedia</th>\n",
       "    </tr>\n",
       "  </thead>\n",
       "  <tbody>\n",
       "    <tr>\n",
       "      <th>0</th>\n",
       "      <td>2009-06-25</td>\n",
       "      <td>NaN</td>\n",
       "      <td>NaN</td>\n",
       "      <td>NaN</td>\n",
       "      <td>NaN</td>\n",
       "      <td>NaN</td>\n",
       "      <td>NaN</td>\n",
       "      <td>NaN</td>\n",
       "      <td>47.0</td>\n",
       "      <td>8,9</td>\n",
       "      <td>NaN</td>\n",
       "    </tr>\n",
       "    <tr>\n",
       "      <th>1</th>\n",
       "      <td>2009-06-26</td>\n",
       "      <td>NaN</td>\n",
       "      <td>986,7</td>\n",
       "      <td>18,2</td>\n",
       "      <td>29</td>\n",
       "      <td>21,7</td>\n",
       "      <td>17</td>\n",
       "      <td>80,4</td>\n",
       "      <td>50.0</td>\n",
       "      <td>5,2</td>\n",
       "      <td>1,4</td>\n",
       "    </tr>\n",
       "    <tr>\n",
       "      <th>2</th>\n",
       "      <td>2009-06-27</td>\n",
       "      <td>0</td>\n",
       "      <td>988,4</td>\n",
       "      <td>19</td>\n",
       "      <td>28</td>\n",
       "      <td>22,6</td>\n",
       "      <td>18,9</td>\n",
       "      <td>81,6</td>\n",
       "      <td>52.0</td>\n",
       "      <td>7,6</td>\n",
       "      <td>1,7</td>\n",
       "    </tr>\n",
       "    <tr>\n",
       "      <th>3</th>\n",
       "      <td>2009-06-28</td>\n",
       "      <td>0</td>\n",
       "      <td>987,3</td>\n",
       "      <td>18,8</td>\n",
       "      <td>27</td>\n",
       "      <td>21,9</td>\n",
       "      <td>19,2</td>\n",
       "      <td>83,5</td>\n",
       "      <td>55.0</td>\n",
       "      <td>5,9</td>\n",
       "      <td>1,4</td>\n",
       "    </tr>\n",
       "    <tr>\n",
       "      <th>4</th>\n",
       "      <td>2009-06-29</td>\n",
       "      <td>0</td>\n",
       "      <td>985,3</td>\n",
       "      <td>18,4</td>\n",
       "      <td>28,5</td>\n",
       "      <td>22,3</td>\n",
       "      <td>18,6</td>\n",
       "      <td>80,8</td>\n",
       "      <td>48.0</td>\n",
       "      <td>5,5</td>\n",
       "      <td>1,3</td>\n",
       "    </tr>\n",
       "  </tbody>\n",
       "</table>\n",
       "</div>"
      ],
      "text/plain": [
       "         Data PrecipitacaoTotalDiaria PressaoMediaDiaria TempPontoOrvalho  \\\n",
       "0  2009-06-25                     NaN                NaN              NaN   \n",
       "1  2009-06-26                     NaN              986,7             18,2   \n",
       "2  2009-06-27                       0              988,4               19   \n",
       "3  2009-06-28                       0              987,3             18,8   \n",
       "4  2009-06-29                       0              985,3             18,4   \n",
       "\n",
       "  TempMaxima TempMedia TempMinima UmidadeMedia  UmidadeMinima  \\\n",
       "0        NaN       NaN        NaN          NaN           47.0   \n",
       "1         29      21,7         17         80,4           50.0   \n",
       "2         28      22,6       18,9         81,6           52.0   \n",
       "3         27      21,9       19,2         83,5           55.0   \n",
       "4       28,5      22,3       18,6         80,8           48.0   \n",
       "\n",
       "  VentoRajadaMaxima VentoVelocidadeMedia  \n",
       "0               8,9                  NaN  \n",
       "1               5,2                  1,4  \n",
       "2               7,6                  1,7  \n",
       "3               5,9                  1,4  \n",
       "4               5,5                  1,3  "
      ]
     },
     "execution_count": 15,
     "metadata": {},
     "output_type": "execute_result"
    }
   ],
   "source": [
    "data.head()"
   ]
  }
 ],
 "metadata": {
  "kernelspec": {
   "display_name": "tcc",
   "language": "python",
   "name": "python3"
  },
  "language_info": {
   "codemirror_mode": {
    "name": "ipython",
    "version": 3
   },
   "file_extension": ".py",
   "mimetype": "text/x-python",
   "name": "python",
   "nbconvert_exporter": "python",
   "pygments_lexer": "ipython3",
   "version": "3.13.1"
  }
 },
 "nbformat": 4,
 "nbformat_minor": 2
}
